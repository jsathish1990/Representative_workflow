{
 "cells": [
  {
   "cell_type": "code",
   "execution_count": null,
   "id": "374c63ac",
   "metadata": {},
   "outputs": [],
   "source": [
    "#%% reference : https://towardsdatascience.com/simple-wordcloud-in-python-2ae54a9f58e5\n",
    "\n",
    "import numpy as np\n",
    "import matplotlib.pyplot as plt\n",
    "import pandas as pd\n",
    "import seaborn as sns\n",
    "import re\n",
    "from bs4 import BeautifulSoup \n",
    "pd.set_option('display.width', 1000)\n",
    "pd.set_option('display.max_columns', 1000)\n",
    "import time, requests\n",
    "review_dict = {'date':[] ,'review':[]}\n",
    "file1 = open('sample_text.txt', 'r')\n",
    "count = 0\n",
    " \n",
    "# Using for loop\n",
    "for line in file1:\n",
    "    for page in range(1,11):\n",
    "        url = 'https://www.goodreads.com/book/show/' + str(line.strip()) +'?page=' + str(page)\n",
    "        count += 1\n",
    "        user_agent = {'User-agent': 'Mozilla/5.0'}\n",
    "        response = requests.get(url, headers = user_agent)\n",
    "\n",
    "        soup = BeautifulSoup(response.text, 'html.parser')\n",
    "\n",
    "        for review in soup.find_all('div', class_='review nosyndicate'):\n",
    "            if review.find('div', class_='reviewHeader uitext stacked') == None:\n",
    "                break \n",
    "        \n",
    "            if review.find('span', class_='readable'):\n",
    "                review_dict['review'].append(review.find('span', class_='readable').text)\n",
    "                review_dict['date'].append(review.find('a', class_='reviewDate createdAt right').text)\n",
    "                # review_dict['rating'].append(review.find('span', class_='staticStar p10').text)\n",
    "            else:\n",
    "                review_dict['review'].append(review.find('div', class_='reviewText stacked').find('span').text)    \n",
    "book_reviews = pd.DataFrame(review_dict)\n",
    "# print(pd.DataFrame(review_dict))\n",
    "\n",
    "print(book_reviews['review'])\n",
    "\n",
    "a = book_reviews.drop_duplicates(subset='review', keep=\"last\").reset_index(drop=True)"
   ]
  }
 ],
 "metadata": {
  "kernelspec": {
   "display_name": "Python 3",
   "language": "python",
   "name": "python3"
  },
  "language_info": {
   "codemirror_mode": {
    "name": "ipython",
    "version": 3
   },
   "file_extension": ".py",
   "mimetype": "text/x-python",
   "name": "python",
   "nbconvert_exporter": "python",
   "pygments_lexer": "ipython3",
   "version": "3.8.8"
  }
 },
 "nbformat": 4,
 "nbformat_minor": 5
}
